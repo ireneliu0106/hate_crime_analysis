{
  "nbformat": 4,
  "nbformat_minor": 0,
  "metadata": {
    "colab": {
      "name": "Mini Project #5.ipynb",
      "provenance": [],
      "authorship_tag": "ABX9TyPWAR43YKvtaXdIxdqeHsv0",
      "include_colab_link": true
    },
    "kernelspec": {
      "name": "python3",
      "display_name": "Python 3"
    },
    "language_info": {
      "name": "python"
    }
  },
  "cells": [
    {
      "cell_type": "markdown",
      "metadata": {
        "id": "view-in-github",
        "colab_type": "text"
      },
      "source": [
        "<a href=\"https://colab.research.google.com/github/ireneliu0106/hate_crime_analysis/blob/main/Mini_Project_5.ipynb\" target=\"_parent\"><img src=\"https://colab.research.google.com/assets/colab-badge.svg\" alt=\"Open In Colab\"/></a>"
      ]
    },
    {
      "cell_type": "markdown",
      "metadata": {
        "id": "1pyqdhwO0xhI"
      },
      "source": [
        "## Import Libraries"
      ]
    },
    {
      "cell_type": "code",
      "metadata": {
        "id": "_ocdcSos00w2"
      },
      "source": [
        "# for data analysis\n",
        "import pandas as pd\n",
        "import numpy as np\n",
        "\n",
        "# for data visualization\n",
        "import plotly.express as px\n",
        "\n",
        "# to download files\n",
        "from google.colab import files\n"
      ],
      "execution_count": 1,
      "outputs": []
    },
    {
      "cell_type": "markdown",
      "metadata": {
        "id": "D0pl6b2a09PE"
      },
      "source": [
        "## Import data"
      ]
    },
    {
      "cell_type": "code",
      "metadata": {
        "colab": {
          "base_uri": "https://localhost:8080/",
          "height": 204
        },
        "id": "DjHLj-3R1COx",
        "outputId": "67012289-96ee-4812-c17d-3b7ad2c892ff"
      },
      "source": [
        "# import csv file for data analysis\n",
        "df_hc = pd.read_csv(\"https://raw.githubusercontent.com/ireneliu0106/hate_crime_analysis/main/Victims_Incidents.csv\")\n",
        "# preview data\n",
        "df_hc.head()"
      ],
      "execution_count": 2,
      "outputs": [
        {
          "output_type": "execute_result",
          "data": {
            "text/html": [
              "<div>\n",
              "<style scoped>\n",
              "    .dataframe tbody tr th:only-of-type {\n",
              "        vertical-align: middle;\n",
              "    }\n",
              "\n",
              "    .dataframe tbody tr th {\n",
              "        vertical-align: top;\n",
              "    }\n",
              "\n",
              "    .dataframe thead th {\n",
              "        text-align: right;\n",
              "    }\n",
              "</style>\n",
              "<table border=\"1\" class=\"dataframe\">\n",
              "  <thead>\n",
              "    <tr style=\"text-align: right;\">\n",
              "      <th></th>\n",
              "      <th>Race/Ethnicity/Ancestry:</th>\n",
              "      <th>Incidents</th>\n",
              "      <th>Offenses</th>\n",
              "      <th>Victims1</th>\n",
              "      <th>Known\\noffenders2</th>\n",
              "      <th>Year</th>\n",
              "    </tr>\n",
              "  </thead>\n",
              "  <tbody>\n",
              "    <tr>\n",
              "      <th>0</th>\n",
              "      <td>Anti-White</td>\n",
              "      <td>613</td>\n",
              "      <td>734</td>\n",
              "      <td>789</td>\n",
              "      <td>681</td>\n",
              "      <td>2015</td>\n",
              "    </tr>\n",
              "    <tr>\n",
              "      <th>1</th>\n",
              "      <td>Anti-Black or African American</td>\n",
              "      <td>1,745</td>\n",
              "      <td>2,125</td>\n",
              "      <td>2,201</td>\n",
              "      <td>1,605</td>\n",
              "      <td>2015</td>\n",
              "    </tr>\n",
              "    <tr>\n",
              "      <th>2</th>\n",
              "      <td>Anti-American Indian or Alaska Native</td>\n",
              "      <td>131</td>\n",
              "      <td>137</td>\n",
              "      <td>141</td>\n",
              "      <td>113</td>\n",
              "      <td>2015</td>\n",
              "    </tr>\n",
              "    <tr>\n",
              "      <th>3</th>\n",
              "      <td>Anti-Asian</td>\n",
              "      <td>111</td>\n",
              "      <td>132</td>\n",
              "      <td>136</td>\n",
              "      <td>108</td>\n",
              "      <td>2015</td>\n",
              "    </tr>\n",
              "    <tr>\n",
              "      <th>4</th>\n",
              "      <td>Anti-Native Hawaiian or Other Pacific Islander</td>\n",
              "      <td>4</td>\n",
              "      <td>6</td>\n",
              "      <td>6</td>\n",
              "      <td>3</td>\n",
              "      <td>2015</td>\n",
              "    </tr>\n",
              "  </tbody>\n",
              "</table>\n",
              "</div>"
            ],
            "text/plain": [
              "                         Race/Ethnicity/Ancestry:  ...  Year\n",
              "0                                      Anti-White  ...  2015\n",
              "1                  Anti-Black or African American  ...  2015\n",
              "2           Anti-American Indian or Alaska Native  ...  2015\n",
              "3                                      Anti-Asian  ...  2015\n",
              "4  Anti-Native Hawaiian or Other Pacific Islander  ...  2015\n",
              "\n",
              "[5 rows x 6 columns]"
            ]
          },
          "metadata": {
            "tags": []
          },
          "execution_count": 2
        }
      ]
    },
    {
      "cell_type": "markdown",
      "metadata": {
        "id": "hRY_eZ6z1gcJ"
      },
      "source": [
        "## Data Cleaning"
      ]
    },
    {
      "cell_type": "code",
      "metadata": {
        "id": "EQl7fleA1jpq"
      },
      "source": [
        "# rename the columns\n",
        "df_hc = df_hc.rename(columns = {\"Race/Ethnicity/Ancestry:\":\"Race\",\n",
        "                                \"Victims1\":\"Victims\",\n",
        "                                \"Known\\noffenders2\":\"Known Offenders\"})"
      ],
      "execution_count": 3,
      "outputs": []
    },
    {
      "cell_type": "code",
      "metadata": {
        "colab": {
          "base_uri": "https://localhost:8080/",
          "height": 204
        },
        "id": "U9TDyxoN2iEs",
        "outputId": "e0ced6e6-72df-4c95-9918-2416a871656c"
      },
      "source": [
        "# preview dataframe\n",
        "df_hc.head()"
      ],
      "execution_count": 4,
      "outputs": [
        {
          "output_type": "execute_result",
          "data": {
            "text/html": [
              "<div>\n",
              "<style scoped>\n",
              "    .dataframe tbody tr th:only-of-type {\n",
              "        vertical-align: middle;\n",
              "    }\n",
              "\n",
              "    .dataframe tbody tr th {\n",
              "        vertical-align: top;\n",
              "    }\n",
              "\n",
              "    .dataframe thead th {\n",
              "        text-align: right;\n",
              "    }\n",
              "</style>\n",
              "<table border=\"1\" class=\"dataframe\">\n",
              "  <thead>\n",
              "    <tr style=\"text-align: right;\">\n",
              "      <th></th>\n",
              "      <th>Race</th>\n",
              "      <th>Incidents</th>\n",
              "      <th>Offenses</th>\n",
              "      <th>Victims</th>\n",
              "      <th>Known Offenders</th>\n",
              "      <th>Year</th>\n",
              "    </tr>\n",
              "  </thead>\n",
              "  <tbody>\n",
              "    <tr>\n",
              "      <th>0</th>\n",
              "      <td>Anti-White</td>\n",
              "      <td>613</td>\n",
              "      <td>734</td>\n",
              "      <td>789</td>\n",
              "      <td>681</td>\n",
              "      <td>2015</td>\n",
              "    </tr>\n",
              "    <tr>\n",
              "      <th>1</th>\n",
              "      <td>Anti-Black or African American</td>\n",
              "      <td>1,745</td>\n",
              "      <td>2,125</td>\n",
              "      <td>2,201</td>\n",
              "      <td>1,605</td>\n",
              "      <td>2015</td>\n",
              "    </tr>\n",
              "    <tr>\n",
              "      <th>2</th>\n",
              "      <td>Anti-American Indian or Alaska Native</td>\n",
              "      <td>131</td>\n",
              "      <td>137</td>\n",
              "      <td>141</td>\n",
              "      <td>113</td>\n",
              "      <td>2015</td>\n",
              "    </tr>\n",
              "    <tr>\n",
              "      <th>3</th>\n",
              "      <td>Anti-Asian</td>\n",
              "      <td>111</td>\n",
              "      <td>132</td>\n",
              "      <td>136</td>\n",
              "      <td>108</td>\n",
              "      <td>2015</td>\n",
              "    </tr>\n",
              "    <tr>\n",
              "      <th>4</th>\n",
              "      <td>Anti-Native Hawaiian or Other Pacific Islander</td>\n",
              "      <td>4</td>\n",
              "      <td>6</td>\n",
              "      <td>6</td>\n",
              "      <td>3</td>\n",
              "      <td>2015</td>\n",
              "    </tr>\n",
              "  </tbody>\n",
              "</table>\n",
              "</div>"
            ],
            "text/plain": [
              "                                             Race  ...  Year\n",
              "0                                      Anti-White  ...  2015\n",
              "1                  Anti-Black or African American  ...  2015\n",
              "2           Anti-American Indian or Alaska Native  ...  2015\n",
              "3                                      Anti-Asian  ...  2015\n",
              "4  Anti-Native Hawaiian or Other Pacific Islander  ...  2015\n",
              "\n",
              "[5 rows x 6 columns]"
            ]
          },
          "metadata": {
            "tags": []
          },
          "execution_count": 4
        }
      ]
    },
    {
      "cell_type": "code",
      "metadata": {
        "colab": {
          "base_uri": "https://localhost:8080/"
        },
        "id": "zbNafQUIG-3q",
        "outputId": "3279f0d7-c4a9-4a90-f365-600f31b21c5e"
      },
      "source": [
        "# preview dataframe info\n",
        "df_hc.info()"
      ],
      "execution_count": 5,
      "outputs": [
        {
          "output_type": "stream",
          "text": [
            "<class 'pandas.core.frame.DataFrame'>\n",
            "RangeIndex: 45 entries, 0 to 44\n",
            "Data columns (total 6 columns):\n",
            " #   Column           Non-Null Count  Dtype \n",
            "---  ------           --------------  ----- \n",
            " 0   Race             45 non-null     object\n",
            " 1   Incidents        45 non-null     object\n",
            " 2   Offenses         45 non-null     object\n",
            " 3   Victims          45 non-null     object\n",
            " 4   Known Offenders  45 non-null     object\n",
            " 5   Year             45 non-null     int64 \n",
            "dtypes: int64(1), object(5)\n",
            "memory usage: 2.2+ KB\n"
          ],
          "name": "stdout"
        }
      ]
    },
    {
      "cell_type": "code",
      "metadata": {
        "id": "Nv3h_7iy_nyE"
      },
      "source": [
        "# turn column headers into a list\n",
        "hc_list = df_hc.columns.tolist()\n",
        "# remove \"Year\" from the list because it's not a string\n",
        "hc_list.remove(\"Year\")\n",
        "# loop through the columns to remove comma\n",
        "for col in hc_list:\n",
        "  df_hc[col] = df_hc[col].str.replace(\",\",\"\")"
      ],
      "execution_count": 6,
      "outputs": []
    },
    {
      "cell_type": "code",
      "metadata": {
        "id": "1meTVulbASjb"
      },
      "source": [
        "# remove \"Race\" from the list because we will keep it as object\n",
        "hc_list.remove(\"Race\")\n",
        "# loop through the columns to convert data to int\n",
        "for col in hc_list:\n",
        "  df_hc[col] = df_hc[col].astype(int)\n"
      ],
      "execution_count": 7,
      "outputs": []
    },
    {
      "cell_type": "code",
      "metadata": {
        "colab": {
          "base_uri": "https://localhost:8080/"
        },
        "id": "iVgH4YhaAdkQ",
        "outputId": "bf2ed84b-8a52-4918-dba1-0caee8004810"
      },
      "source": [
        "# preview dataframe\n",
        "df_hc.info()"
      ],
      "execution_count": 8,
      "outputs": [
        {
          "output_type": "stream",
          "text": [
            "<class 'pandas.core.frame.DataFrame'>\n",
            "RangeIndex: 45 entries, 0 to 44\n",
            "Data columns (total 6 columns):\n",
            " #   Column           Non-Null Count  Dtype \n",
            "---  ------           --------------  ----- \n",
            " 0   Race             45 non-null     object\n",
            " 1   Incidents        45 non-null     int64 \n",
            " 2   Offenses         45 non-null     int64 \n",
            " 3   Victims          45 non-null     int64 \n",
            " 4   Known Offenders  45 non-null     int64 \n",
            " 5   Year             45 non-null     int64 \n",
            "dtypes: int64(5), object(1)\n",
            "memory usage: 2.2+ KB\n"
          ],
          "name": "stdout"
        }
      ]
    },
    {
      "cell_type": "markdown",
      "metadata": {
        "id": "8xuVspOi3SMH"
      },
      "source": [
        "## Data Analysis / Visualization"
      ]
    },
    {
      "cell_type": "code",
      "metadata": {
        "id": "DH_x5DnZ3VoB"
      },
      "source": [
        "# make a bubble chart animation\n",
        "hc_animation = px.scatter(df_hc,\n",
        "                          x = \"Offenses\",\n",
        "                          y = \"Incidents\",\n",
        "                          size = \"Victims\",\n",
        "                          color = \"Race\",\n",
        "                          animation_frame = \"Year\",\n",
        "                          title = \"Racially Motivated Hate Crime, 2015 to 2019\",\n",
        "                          range_x = [0, 2500],\n",
        "                          range_y = [0, 2500])"
      ],
      "execution_count": 9,
      "outputs": []
    },
    {
      "cell_type": "code",
      "metadata": {
        "colab": {
          "base_uri": "https://localhost:8080/",
          "height": 542
        },
        "id": "58YvShel-XS3",
        "outputId": "c2ce8f88-a62e-4a2d-b3a2-4269329e7346"
      },
      "source": [
        "hc_animation"
      ],
      "execution_count": 10,
      "outputs": [
        {
          "output_type": "display_data",
          "data": {
            "text/html": [
              "<html>\n",
              "<head><meta charset=\"utf-8\" /></head>\n",
              "<body>\n",
              "    <div>\n",
              "            <script src=\"https://cdnjs.cloudflare.com/ajax/libs/mathjax/2.7.5/MathJax.js?config=TeX-AMS-MML_SVG\"></script><script type=\"text/javascript\">if (window.MathJax) {MathJax.Hub.Config({SVG: {font: \"STIX-Web\"}});}</script>\n",
              "                <script type=\"text/javascript\">window.PlotlyConfig = {MathJaxConfig: 'local'};</script>\n",
              "        <script src=\"https://cdn.plot.ly/plotly-latest.min.js\"></script>    \n",
              "            <div id=\"01b8d4f3-5562-479b-ae15-83cf70994c15\" class=\"plotly-graph-div\" style=\"height:525px; width:100%;\"></div>\n",
              "            <script type=\"text/javascript\">\n",
              "                \n",
              "                    window.PLOTLYENV=window.PLOTLYENV || {};\n",
              "                    \n",
              "                if (document.getElementById(\"01b8d4f3-5562-479b-ae15-83cf70994c15\")) {\n",
              "                    Plotly.newPlot(\n",
              "                        '01b8d4f3-5562-479b-ae15-83cf70994c15',\n",
              "                        [{\"hoverlabel\": {\"namelength\": 0}, \"hovertemplate\": \"Race=Anti-White<br>Year=2015<br>Offenses=%{x}<br>Incidents=%{y}<br>Victims=%{marker.size}\", \"legendgroup\": \"Race=Anti-White\", \"marker\": {\"color\": \"#636efa\", \"size\": [789], \"sizemode\": \"area\", \"sizeref\": 6.145, \"symbol\": \"circle\"}, \"mode\": \"markers\", \"name\": \"Race=Anti-White\", \"showlegend\": true, \"type\": \"scatter\", \"x\": [734], \"xaxis\": \"x\", \"y\": [613], \"yaxis\": \"y\"}, {\"hoverlabel\": {\"namelength\": 0}, \"hovertemplate\": \"Race=Anti-Black or African American<br>Year=2015<br>Offenses=%{x}<br>Incidents=%{y}<br>Victims=%{marker.size}\", \"legendgroup\": \"Race=Anti-Black or African American\", \"marker\": {\"color\": \"#EF553B\", \"size\": [2201], \"sizemode\": \"area\", \"sizeref\": 6.145, \"symbol\": \"circle\"}, \"mode\": \"markers\", \"name\": \"Race=Anti-Black or African American\", \"showlegend\": true, \"type\": \"scatter\", \"x\": [2125], \"xaxis\": \"x\", \"y\": [1745], \"yaxis\": \"y\"}, {\"hoverlabel\": {\"namelength\": 0}, \"hovertemplate\": \"Race=Anti-American Indian or Alaska Native<br>Year=2015<br>Offenses=%{x}<br>Incidents=%{y}<br>Victims=%{marker.size}\", \"legendgroup\": \"Race=Anti-American Indian or Alaska Native\", \"marker\": {\"color\": \"#00cc96\", \"size\": [141], \"sizemode\": \"area\", \"sizeref\": 6.145, \"symbol\": \"circle\"}, \"mode\": \"markers\", \"name\": \"Race=Anti-American Indian or Alaska Native\", \"showlegend\": true, \"type\": \"scatter\", \"x\": [137], \"xaxis\": \"x\", \"y\": [131], \"yaxis\": \"y\"}, {\"hoverlabel\": {\"namelength\": 0}, \"hovertemplate\": \"Race=Anti-Asian<br>Year=2015<br>Offenses=%{x}<br>Incidents=%{y}<br>Victims=%{marker.size}\", \"legendgroup\": \"Race=Anti-Asian\", \"marker\": {\"color\": \"#ab63fa\", \"size\": [136], \"sizemode\": \"area\", \"sizeref\": 6.145, \"symbol\": \"circle\"}, \"mode\": \"markers\", \"name\": \"Race=Anti-Asian\", \"showlegend\": true, \"type\": \"scatter\", \"x\": [132], \"xaxis\": \"x\", \"y\": [111], \"yaxis\": \"y\"}, {\"hoverlabel\": {\"namelength\": 0}, \"hovertemplate\": \"Race=Anti-Native Hawaiian or Other Pacific Islander<br>Year=2015<br>Offenses=%{x}<br>Incidents=%{y}<br>Victims=%{marker.size}\", \"legendgroup\": \"Race=Anti-Native Hawaiian or Other Pacific Islander\", \"marker\": {\"color\": \"#FFA15A\", \"size\": [6], \"sizemode\": \"area\", \"sizeref\": 6.145, \"symbol\": \"circle\"}, \"mode\": \"markers\", \"name\": \"Race=Anti-Native Hawaiian or Other Pacific Islander\", \"showlegend\": true, \"type\": \"scatter\", \"x\": [6], \"xaxis\": \"x\", \"y\": [4], \"yaxis\": \"y\"}, {\"hoverlabel\": {\"namelength\": 0}, \"hovertemplate\": \"Race=Anti-Multiple Races Group<br>Year=2015<br>Offenses=%{x}<br>Incidents=%{y}<br>Victims=%{marker.size}\", \"legendgroup\": \"Race=Anti-Multiple Races Group\", \"marker\": {\"color\": \"#19d3f3\", \"size\": [160], \"sizemode\": \"area\", \"sizeref\": 6.145, \"symbol\": \"circle\"}, \"mode\": \"markers\", \"name\": \"Race=Anti-Multiple Races Group\", \"showlegend\": true, \"type\": \"scatter\", \"x\": [138], \"xaxis\": \"x\", \"y\": [113], \"yaxis\": \"y\"}, {\"hoverlabel\": {\"namelength\": 0}, \"hovertemplate\": \"Race=Anti-Arab<br>Year=2015<br>Offenses=%{x}<br>Incidents=%{y}<br>Victims=%{marker.size}\", \"legendgroup\": \"Race=Anti-Arab\", \"marker\": {\"color\": \"#FF6692\", \"size\": [48], \"sizemode\": \"area\", \"sizeref\": 6.145, \"symbol\": \"circle\"}, \"mode\": \"markers\", \"name\": \"Race=Anti-Arab\", \"showlegend\": true, \"type\": \"scatter\", \"x\": [47], \"xaxis\": \"x\", \"y\": [37], \"yaxis\": \"y\"}, {\"hoverlabel\": {\"namelength\": 0}, \"hovertemplate\": \"Race=Anti-Hispanic or Latino<br>Year=2015<br>Offenses=%{x}<br>Incidents=%{y}<br>Victims=%{marker.size}\", \"legendgroup\": \"Race=Anti-Hispanic or Latino\", \"marker\": {\"color\": \"#B6E880\", \"size\": [392], \"sizemode\": \"area\", \"sizeref\": 6.145, \"symbol\": \"circle\"}, \"mode\": \"markers\", \"name\": \"Race=Anti-Hispanic or Latino\", \"showlegend\": true, \"type\": \"scatter\", \"x\": [379], \"xaxis\": \"x\", \"y\": [299], \"yaxis\": \"y\"}, {\"hoverlabel\": {\"namelength\": 0}, \"hovertemplate\": \"Race=Anti-Other Race/Ethnicity/Ancestry<br>Year=2015<br>Offenses=%{x}<br>Incidents=%{y}<br>Victims=%{marker.size}\", \"legendgroup\": \"Race=Anti-Other Race/Ethnicity/Ancestry\", \"marker\": {\"color\": \"#FF97FF\", \"size\": [343], \"sizemode\": \"area\", \"sizeref\": 6.145, \"symbol\": \"circle\"}, \"mode\": \"markers\", \"name\": \"Race=Anti-Other Race/Ethnicity/Ancestry\", \"showlegend\": true, \"type\": \"scatter\", \"x\": [331], \"xaxis\": \"x\", \"y\": [257], \"yaxis\": \"y\"}],\n",
              "                        {\"legend\": {\"itemsizing\": \"constant\", \"tracegroupgap\": 0}, \"sliders\": [{\"active\": 0, \"currentvalue\": {\"prefix\": \"Year=\"}, \"len\": 0.9, \"pad\": {\"b\": 10, \"t\": 60}, \"steps\": [{\"args\": [[\"2015\"], {\"frame\": {\"duration\": 0, \"redraw\": false}, \"fromcurrent\": true, \"mode\": \"immediate\", \"transition\": {\"duration\": 0, \"easing\": \"linear\"}}], \"label\": \"2015\", \"method\": \"animate\"}, {\"args\": [[\"2016\"], {\"frame\": {\"duration\": 0, \"redraw\": false}, \"fromcurrent\": true, \"mode\": \"immediate\", \"transition\": {\"duration\": 0, \"easing\": \"linear\"}}], \"label\": \"2016\", \"method\": \"animate\"}, {\"args\": [[\"2017\"], {\"frame\": {\"duration\": 0, \"redraw\": false}, \"fromcurrent\": true, \"mode\": \"immediate\", \"transition\": {\"duration\": 0, \"easing\": \"linear\"}}], \"label\": \"2017\", \"method\": \"animate\"}, {\"args\": [[\"2018\"], {\"frame\": {\"duration\": 0, \"redraw\": false}, \"fromcurrent\": true, \"mode\": \"immediate\", \"transition\": {\"duration\": 0, \"easing\": \"linear\"}}], \"label\": \"2018\", \"method\": \"animate\"}, {\"args\": [[\"2019\"], {\"frame\": {\"duration\": 0, \"redraw\": false}, \"fromcurrent\": true, \"mode\": \"immediate\", \"transition\": {\"duration\": 0, \"easing\": \"linear\"}}], \"label\": \"2019\", \"method\": \"animate\"}], \"x\": 0.1, \"xanchor\": \"left\", \"y\": 0, \"yanchor\": \"top\"}], \"template\": {\"data\": {\"bar\": [{\"error_x\": {\"color\": \"#2a3f5f\"}, \"error_y\": {\"color\": \"#2a3f5f\"}, \"marker\": {\"line\": {\"color\": \"#E5ECF6\", \"width\": 0.5}}, \"type\": \"bar\"}], \"barpolar\": [{\"marker\": {\"line\": {\"color\": \"#E5ECF6\", \"width\": 0.5}}, \"type\": \"barpolar\"}], \"carpet\": [{\"aaxis\": {\"endlinecolor\": \"#2a3f5f\", \"gridcolor\": \"white\", \"linecolor\": \"white\", \"minorgridcolor\": \"white\", \"startlinecolor\": \"#2a3f5f\"}, \"baxis\": {\"endlinecolor\": \"#2a3f5f\", \"gridcolor\": \"white\", \"linecolor\": \"white\", \"minorgridcolor\": \"white\", \"startlinecolor\": \"#2a3f5f\"}, \"type\": \"carpet\"}], \"choropleth\": [{\"colorbar\": {\"outlinewidth\": 0, \"ticks\": \"\"}, \"type\": \"choropleth\"}], \"contour\": [{\"colorbar\": {\"outlinewidth\": 0, \"ticks\": \"\"}, \"colorscale\": [[0.0, \"#0d0887\"], [0.1111111111111111, \"#46039f\"], [0.2222222222222222, \"#7201a8\"], [0.3333333333333333, \"#9c179e\"], [0.4444444444444444, \"#bd3786\"], [0.5555555555555556, \"#d8576b\"], [0.6666666666666666, \"#ed7953\"], [0.7777777777777778, \"#fb9f3a\"], [0.8888888888888888, \"#fdca26\"], [1.0, \"#f0f921\"]], \"type\": \"contour\"}], \"contourcarpet\": [{\"colorbar\": {\"outlinewidth\": 0, \"ticks\": \"\"}, \"type\": \"contourcarpet\"}], \"heatmap\": [{\"colorbar\": {\"outlinewidth\": 0, \"ticks\": \"\"}, \"colorscale\": [[0.0, \"#0d0887\"], [0.1111111111111111, \"#46039f\"], [0.2222222222222222, \"#7201a8\"], [0.3333333333333333, \"#9c179e\"], [0.4444444444444444, \"#bd3786\"], [0.5555555555555556, \"#d8576b\"], [0.6666666666666666, \"#ed7953\"], [0.7777777777777778, \"#fb9f3a\"], [0.8888888888888888, \"#fdca26\"], [1.0, \"#f0f921\"]], \"type\": \"heatmap\"}], \"heatmapgl\": [{\"colorbar\": {\"outlinewidth\": 0, \"ticks\": \"\"}, \"colorscale\": [[0.0, \"#0d0887\"], [0.1111111111111111, \"#46039f\"], [0.2222222222222222, \"#7201a8\"], [0.3333333333333333, \"#9c179e\"], [0.4444444444444444, \"#bd3786\"], [0.5555555555555556, \"#d8576b\"], [0.6666666666666666, \"#ed7953\"], [0.7777777777777778, \"#fb9f3a\"], [0.8888888888888888, \"#fdca26\"], [1.0, \"#f0f921\"]], \"type\": \"heatmapgl\"}], \"histogram\": [{\"marker\": {\"colorbar\": {\"outlinewidth\": 0, \"ticks\": \"\"}}, \"type\": \"histogram\"}], \"histogram2d\": [{\"colorbar\": {\"outlinewidth\": 0, \"ticks\": \"\"}, \"colorscale\": [[0.0, \"#0d0887\"], [0.1111111111111111, \"#46039f\"], [0.2222222222222222, \"#7201a8\"], [0.3333333333333333, \"#9c179e\"], [0.4444444444444444, \"#bd3786\"], [0.5555555555555556, \"#d8576b\"], [0.6666666666666666, \"#ed7953\"], [0.7777777777777778, \"#fb9f3a\"], [0.8888888888888888, \"#fdca26\"], [1.0, \"#f0f921\"]], \"type\": \"histogram2d\"}], \"histogram2dcontour\": [{\"colorbar\": {\"outlinewidth\": 0, \"ticks\": \"\"}, \"colorscale\": [[0.0, \"#0d0887\"], [0.1111111111111111, \"#46039f\"], [0.2222222222222222, \"#7201a8\"], [0.3333333333333333, \"#9c179e\"], [0.4444444444444444, \"#bd3786\"], [0.5555555555555556, \"#d8576b\"], [0.6666666666666666, \"#ed7953\"], [0.7777777777777778, \"#fb9f3a\"], [0.8888888888888888, \"#fdca26\"], [1.0, \"#f0f921\"]], \"type\": \"histogram2dcontour\"}], \"mesh3d\": [{\"colorbar\": {\"outlinewidth\": 0, \"ticks\": \"\"}, \"type\": \"mesh3d\"}], \"parcoords\": [{\"line\": {\"colorbar\": {\"outlinewidth\": 0, \"ticks\": \"\"}}, \"type\": \"parcoords\"}], \"pie\": [{\"automargin\": true, \"type\": \"pie\"}], \"scatter\": [{\"marker\": {\"colorbar\": {\"outlinewidth\": 0, \"ticks\": \"\"}}, \"type\": \"scatter\"}], \"scatter3d\": [{\"line\": {\"colorbar\": {\"outlinewidth\": 0, \"ticks\": \"\"}}, \"marker\": {\"colorbar\": {\"outlinewidth\": 0, \"ticks\": \"\"}}, \"type\": \"scatter3d\"}], \"scattercarpet\": [{\"marker\": {\"colorbar\": {\"outlinewidth\": 0, \"ticks\": \"\"}}, \"type\": \"scattercarpet\"}], \"scattergeo\": [{\"marker\": {\"colorbar\": {\"outlinewidth\": 0, \"ticks\": \"\"}}, \"type\": \"scattergeo\"}], \"scattergl\": [{\"marker\": {\"colorbar\": {\"outlinewidth\": 0, \"ticks\": \"\"}}, \"type\": \"scattergl\"}], \"scattermapbox\": [{\"marker\": {\"colorbar\": {\"outlinewidth\": 0, \"ticks\": \"\"}}, \"type\": \"scattermapbox\"}], \"scatterpolar\": [{\"marker\": {\"colorbar\": {\"outlinewidth\": 0, \"ticks\": \"\"}}, \"type\": \"scatterpolar\"}], \"scatterpolargl\": [{\"marker\": {\"colorbar\": {\"outlinewidth\": 0, \"ticks\": \"\"}}, \"type\": \"scatterpolargl\"}], \"scatterternary\": [{\"marker\": {\"colorbar\": {\"outlinewidth\": 0, \"ticks\": \"\"}}, \"type\": \"scatterternary\"}], \"surface\": [{\"colorbar\": {\"outlinewidth\": 0, \"ticks\": \"\"}, \"colorscale\": [[0.0, \"#0d0887\"], [0.1111111111111111, \"#46039f\"], [0.2222222222222222, \"#7201a8\"], [0.3333333333333333, \"#9c179e\"], [0.4444444444444444, \"#bd3786\"], [0.5555555555555556, \"#d8576b\"], [0.6666666666666666, \"#ed7953\"], [0.7777777777777778, \"#fb9f3a\"], [0.8888888888888888, \"#fdca26\"], [1.0, \"#f0f921\"]], \"type\": \"surface\"}], \"table\": [{\"cells\": {\"fill\": {\"color\": \"#EBF0F8\"}, \"line\": {\"color\": \"white\"}}, \"header\": {\"fill\": {\"color\": \"#C8D4E3\"}, \"line\": {\"color\": \"white\"}}, \"type\": \"table\"}]}, \"layout\": {\"annotationdefaults\": {\"arrowcolor\": \"#2a3f5f\", \"arrowhead\": 0, \"arrowwidth\": 1}, \"coloraxis\": {\"colorbar\": {\"outlinewidth\": 0, \"ticks\": \"\"}}, \"colorscale\": {\"diverging\": [[0, \"#8e0152\"], [0.1, \"#c51b7d\"], [0.2, \"#de77ae\"], [0.3, \"#f1b6da\"], [0.4, \"#fde0ef\"], [0.5, \"#f7f7f7\"], [0.6, \"#e6f5d0\"], [0.7, \"#b8e186\"], [0.8, \"#7fbc41\"], [0.9, \"#4d9221\"], [1, \"#276419\"]], \"sequential\": [[0.0, \"#0d0887\"], [0.1111111111111111, \"#46039f\"], [0.2222222222222222, \"#7201a8\"], [0.3333333333333333, \"#9c179e\"], [0.4444444444444444, \"#bd3786\"], [0.5555555555555556, \"#d8576b\"], [0.6666666666666666, \"#ed7953\"], [0.7777777777777778, \"#fb9f3a\"], [0.8888888888888888, \"#fdca26\"], [1.0, \"#f0f921\"]], \"sequentialminus\": [[0.0, \"#0d0887\"], [0.1111111111111111, \"#46039f\"], [0.2222222222222222, \"#7201a8\"], [0.3333333333333333, \"#9c179e\"], [0.4444444444444444, \"#bd3786\"], [0.5555555555555556, \"#d8576b\"], [0.6666666666666666, \"#ed7953\"], [0.7777777777777778, \"#fb9f3a\"], [0.8888888888888888, \"#fdca26\"], [1.0, \"#f0f921\"]]}, \"colorway\": [\"#636efa\", \"#EF553B\", \"#00cc96\", \"#ab63fa\", \"#FFA15A\", \"#19d3f3\", \"#FF6692\", \"#B6E880\", \"#FF97FF\", \"#FECB52\"], \"font\": {\"color\": \"#2a3f5f\"}, \"geo\": {\"bgcolor\": \"white\", \"lakecolor\": \"white\", \"landcolor\": \"#E5ECF6\", \"showlakes\": true, \"showland\": true, \"subunitcolor\": \"white\"}, \"hoverlabel\": {\"align\": \"left\"}, \"hovermode\": \"closest\", \"mapbox\": {\"style\": \"light\"}, \"paper_bgcolor\": \"white\", \"plot_bgcolor\": \"#E5ECF6\", \"polar\": {\"angularaxis\": {\"gridcolor\": \"white\", \"linecolor\": \"white\", \"ticks\": \"\"}, \"bgcolor\": \"#E5ECF6\", \"radialaxis\": {\"gridcolor\": \"white\", \"linecolor\": \"white\", \"ticks\": \"\"}}, \"scene\": {\"xaxis\": {\"backgroundcolor\": \"#E5ECF6\", \"gridcolor\": \"white\", \"gridwidth\": 2, \"linecolor\": \"white\", \"showbackground\": true, \"ticks\": \"\", \"zerolinecolor\": \"white\"}, \"yaxis\": {\"backgroundcolor\": \"#E5ECF6\", \"gridcolor\": \"white\", \"gridwidth\": 2, \"linecolor\": \"white\", \"showbackground\": true, \"ticks\": \"\", \"zerolinecolor\": \"white\"}, \"zaxis\": {\"backgroundcolor\": \"#E5ECF6\", \"gridcolor\": \"white\", \"gridwidth\": 2, \"linecolor\": \"white\", \"showbackground\": true, \"ticks\": \"\", \"zerolinecolor\": \"white\"}}, \"shapedefaults\": {\"line\": {\"color\": \"#2a3f5f\"}}, \"ternary\": {\"aaxis\": {\"gridcolor\": \"white\", \"linecolor\": \"white\", \"ticks\": \"\"}, \"baxis\": {\"gridcolor\": \"white\", \"linecolor\": \"white\", \"ticks\": \"\"}, \"bgcolor\": \"#E5ECF6\", \"caxis\": {\"gridcolor\": \"white\", \"linecolor\": \"white\", \"ticks\": \"\"}}, \"title\": {\"x\": 0.05}, \"xaxis\": {\"automargin\": true, \"gridcolor\": \"white\", \"linecolor\": \"white\", \"ticks\": \"\", \"title\": {\"standoff\": 15}, \"zerolinecolor\": \"white\", \"zerolinewidth\": 2}, \"yaxis\": {\"automargin\": true, \"gridcolor\": \"white\", \"linecolor\": \"white\", \"ticks\": \"\", \"title\": {\"standoff\": 15}, \"zerolinecolor\": \"white\", \"zerolinewidth\": 2}}}, \"title\": {\"text\": \"Racially Motivated Hate Crime, 2015 to 2019\"}, \"updatemenus\": [{\"buttons\": [{\"args\": [null, {\"frame\": {\"duration\": 500, \"redraw\": false}, \"fromcurrent\": true, \"mode\": \"immediate\", \"transition\": {\"duration\": 500, \"easing\": \"linear\"}}], \"label\": \"&#9654;\", \"method\": \"animate\"}, {\"args\": [[null], {\"frame\": {\"duration\": 0, \"redraw\": false}, \"fromcurrent\": true, \"mode\": \"immediate\", \"transition\": {\"duration\": 0, \"easing\": \"linear\"}}], \"label\": \"&#9724;\", \"method\": \"animate\"}], \"direction\": \"left\", \"pad\": {\"r\": 10, \"t\": 70}, \"showactive\": false, \"type\": \"buttons\", \"x\": 0.1, \"xanchor\": \"right\", \"y\": 0, \"yanchor\": \"top\"}], \"xaxis\": {\"anchor\": \"y\", \"domain\": [0.0, 1.0], \"range\": [0, 2500], \"title\": {\"text\": \"Offenses\"}}, \"yaxis\": {\"anchor\": \"x\", \"domain\": [0.0, 1.0], \"range\": [0, 2500], \"title\": {\"text\": \"Incidents\"}}},\n",
              "                        {\"responsive\": true}\n",
              "                    ).then(function(){\n",
              "                            Plotly.addFrames('01b8d4f3-5562-479b-ae15-83cf70994c15', [{\"data\": [{\"hoverlabel\": {\"namelength\": 0}, \"hovertemplate\": \"Race=Anti-White<br>Year=2015<br>Offenses=%{x}<br>Incidents=%{y}<br>Victims=%{marker.size}\", \"legendgroup\": \"Race=Anti-White\", \"marker\": {\"color\": \"#636efa\", \"size\": [789], \"sizemode\": \"area\", \"sizeref\": 6.145, \"symbol\": \"circle\"}, \"mode\": \"markers\", \"name\": \"Race=Anti-White\", \"showlegend\": true, \"x\": [734], \"xaxis\": \"x\", \"y\": [613], \"yaxis\": \"y\", \"type\": \"scatter\"}, {\"hoverlabel\": {\"namelength\": 0}, \"hovertemplate\": \"Race=Anti-Black or African American<br>Year=2015<br>Offenses=%{x}<br>Incidents=%{y}<br>Victims=%{marker.size}\", \"legendgroup\": \"Race=Anti-Black or African American\", \"marker\": {\"color\": \"#EF553B\", \"size\": [2201], \"sizemode\": \"area\", \"sizeref\": 6.145, \"symbol\": \"circle\"}, \"mode\": \"markers\", \"name\": \"Race=Anti-Black or African American\", \"showlegend\": true, \"x\": [2125], \"xaxis\": \"x\", \"y\": [1745], \"yaxis\": \"y\", \"type\": \"scatter\"}, {\"hoverlabel\": {\"namelength\": 0}, \"hovertemplate\": \"Race=Anti-American Indian or Alaska Native<br>Year=2015<br>Offenses=%{x}<br>Incidents=%{y}<br>Victims=%{marker.size}\", \"legendgroup\": \"Race=Anti-American Indian or Alaska Native\", \"marker\": {\"color\": \"#00cc96\", \"size\": [141], \"sizemode\": \"area\", \"sizeref\": 6.145, \"symbol\": \"circle\"}, \"mode\": \"markers\", \"name\": \"Race=Anti-American Indian or Alaska Native\", \"showlegend\": true, \"x\": [137], \"xaxis\": \"x\", \"y\": [131], \"yaxis\": \"y\", \"type\": \"scatter\"}, {\"hoverlabel\": {\"namelength\": 0}, \"hovertemplate\": \"Race=Anti-Asian<br>Year=2015<br>Offenses=%{x}<br>Incidents=%{y}<br>Victims=%{marker.size}\", \"legendgroup\": \"Race=Anti-Asian\", \"marker\": {\"color\": \"#ab63fa\", \"size\": [136], \"sizemode\": \"area\", \"sizeref\": 6.145, \"symbol\": \"circle\"}, \"mode\": \"markers\", \"name\": \"Race=Anti-Asian\", \"showlegend\": true, \"x\": [132], \"xaxis\": \"x\", \"y\": [111], \"yaxis\": \"y\", \"type\": \"scatter\"}, {\"hoverlabel\": {\"namelength\": 0}, \"hovertemplate\": \"Race=Anti-Native Hawaiian or Other Pacific Islander<br>Year=2015<br>Offenses=%{x}<br>Incidents=%{y}<br>Victims=%{marker.size}\", \"legendgroup\": \"Race=Anti-Native Hawaiian or Other Pacific Islander\", \"marker\": {\"color\": \"#FFA15A\", \"size\": [6], \"sizemode\": \"area\", \"sizeref\": 6.145, \"symbol\": \"circle\"}, \"mode\": \"markers\", \"name\": \"Race=Anti-Native Hawaiian or Other Pacific Islander\", \"showlegend\": true, \"x\": [6], \"xaxis\": \"x\", \"y\": [4], \"yaxis\": \"y\", \"type\": \"scatter\"}, {\"hoverlabel\": {\"namelength\": 0}, \"hovertemplate\": \"Race=Anti-Multiple Races Group<br>Year=2015<br>Offenses=%{x}<br>Incidents=%{y}<br>Victims=%{marker.size}\", \"legendgroup\": \"Race=Anti-Multiple Races Group\", \"marker\": {\"color\": \"#19d3f3\", \"size\": [160], \"sizemode\": \"area\", \"sizeref\": 6.145, \"symbol\": \"circle\"}, \"mode\": \"markers\", \"name\": \"Race=Anti-Multiple Races Group\", \"showlegend\": true, \"x\": [138], \"xaxis\": \"x\", \"y\": [113], \"yaxis\": \"y\", \"type\": \"scatter\"}, {\"hoverlabel\": {\"namelength\": 0}, \"hovertemplate\": \"Race=Anti-Arab<br>Year=2015<br>Offenses=%{x}<br>Incidents=%{y}<br>Victims=%{marker.size}\", \"legendgroup\": \"Race=Anti-Arab\", \"marker\": {\"color\": \"#FF6692\", \"size\": [48], \"sizemode\": \"area\", \"sizeref\": 6.145, \"symbol\": \"circle\"}, \"mode\": \"markers\", \"name\": \"Race=Anti-Arab\", \"showlegend\": true, \"x\": [47], \"xaxis\": \"x\", \"y\": [37], \"yaxis\": \"y\", \"type\": \"scatter\"}, {\"hoverlabel\": {\"namelength\": 0}, \"hovertemplate\": \"Race=Anti-Hispanic or Latino<br>Year=2015<br>Offenses=%{x}<br>Incidents=%{y}<br>Victims=%{marker.size}\", \"legendgroup\": \"Race=Anti-Hispanic or Latino\", \"marker\": {\"color\": \"#B6E880\", \"size\": [392], \"sizemode\": \"area\", \"sizeref\": 6.145, \"symbol\": \"circle\"}, \"mode\": \"markers\", \"name\": \"Race=Anti-Hispanic or Latino\", \"showlegend\": true, \"x\": [379], \"xaxis\": \"x\", \"y\": [299], \"yaxis\": \"y\", \"type\": \"scatter\"}, {\"hoverlabel\": {\"namelength\": 0}, \"hovertemplate\": \"Race=Anti-Other Race/Ethnicity/Ancestry<br>Year=2015<br>Offenses=%{x}<br>Incidents=%{y}<br>Victims=%{marker.size}\", \"legendgroup\": \"Race=Anti-Other Race/Ethnicity/Ancestry\", \"marker\": {\"color\": \"#FF97FF\", \"size\": [343], \"sizemode\": \"area\", \"sizeref\": 6.145, \"symbol\": \"circle\"}, \"mode\": \"markers\", \"name\": \"Race=Anti-Other Race/Ethnicity/Ancestry\", \"showlegend\": true, \"x\": [331], \"xaxis\": \"x\", \"y\": [257], \"yaxis\": \"y\", \"type\": \"scatter\"}], \"name\": \"2015\"}, {\"data\": [{\"hoverlabel\": {\"namelength\": 0}, \"hovertemplate\": \"Race=Anti-White<br>Year=2016<br>Offenses=%{x}<br>Incidents=%{y}<br>Victims=%{marker.size}\", \"legendgroup\": \"Race=Anti-White\", \"marker\": {\"color\": \"#636efa\", \"size\": [909], \"sizemode\": \"area\", \"sizeref\": 6.145, \"symbol\": \"circle\"}, \"mode\": \"markers\", \"name\": \"Race=Anti-White\", \"showlegend\": true, \"x\": [876], \"xaxis\": \"x\", \"y\": [720], \"yaxis\": \"y\", \"type\": \"scatter\"}, {\"hoverlabel\": {\"namelength\": 0}, \"hovertemplate\": \"Race=Anti-Black or African American<br>Year=2016<br>Offenses=%{x}<br>Incidents=%{y}<br>Victims=%{marker.size}\", \"legendgroup\": \"Race=Anti-Black or African American\", \"marker\": {\"color\": \"#EF553B\", \"size\": [2220], \"sizemode\": \"area\", \"sizeref\": 6.145, \"symbol\": \"circle\"}, \"mode\": \"markers\", \"name\": \"Race=Anti-Black or African American\", \"showlegend\": true, \"x\": [2122], \"xaxis\": \"x\", \"y\": [1739], \"yaxis\": \"y\", \"type\": \"scatter\"}, {\"hoverlabel\": {\"namelength\": 0}, \"hovertemplate\": \"Race=Anti-American Indian or Alaska Native<br>Year=2016<br>Offenses=%{x}<br>Incidents=%{y}<br>Victims=%{marker.size}\", \"legendgroup\": \"Race=Anti-American Indian or Alaska Native\", \"marker\": {\"color\": \"#00cc96\", \"size\": [169], \"sizemode\": \"area\", \"sizeref\": 6.145, \"symbol\": \"circle\"}, \"mode\": \"markers\", \"name\": \"Race=Anti-American Indian or Alaska Native\", \"showlegend\": true, \"x\": [161], \"xaxis\": \"x\", \"y\": [154], \"yaxis\": \"y\", \"type\": \"scatter\"}, {\"hoverlabel\": {\"namelength\": 0}, \"hovertemplate\": \"Race=Anti-Asian<br>Year=2016<br>Offenses=%{x}<br>Incidents=%{y}<br>Victims=%{marker.size}\", \"legendgroup\": \"Race=Anti-Asian\", \"marker\": {\"color\": \"#ab63fa\", \"size\": [137], \"sizemode\": \"area\", \"sizeref\": 6.145, \"symbol\": \"circle\"}, \"mode\": \"markers\", \"name\": \"Race=Anti-Asian\", \"showlegend\": true, \"x\": [131], \"xaxis\": \"x\", \"y\": [113], \"yaxis\": \"y\", \"type\": \"scatter\"}, {\"hoverlabel\": {\"namelength\": 0}, \"hovertemplate\": \"Race=Anti-Native Hawaiian or Other Pacific Islander<br>Year=2016<br>Offenses=%{x}<br>Incidents=%{y}<br>Victims=%{marker.size}\", \"legendgroup\": \"Race=Anti-Native Hawaiian or Other Pacific Islander\", \"marker\": {\"color\": \"#FFA15A\", \"size\": [9], \"sizemode\": \"area\", \"sizeref\": 6.145, \"symbol\": \"circle\"}, \"mode\": \"markers\", \"name\": \"Race=Anti-Native Hawaiian or Other Pacific Islander\", \"showlegend\": true, \"x\": [9], \"xaxis\": \"x\", \"y\": [9], \"yaxis\": \"y\", \"type\": \"scatter\"}, {\"hoverlabel\": {\"namelength\": 0}, \"hovertemplate\": \"Race=Anti-Multiple Races Group<br>Year=2016<br>Offenses=%{x}<br>Incidents=%{y}<br>Victims=%{marker.size}\", \"legendgroup\": \"Race=Anti-Multiple Races Group\", \"marker\": {\"color\": \"#19d3f3\", \"size\": [190], \"sizemode\": \"area\", \"sizeref\": 6.145, \"symbol\": \"circle\"}, \"mode\": \"markers\", \"name\": \"Race=Anti-Multiple Races Group\", \"showlegend\": true, \"x\": [178], \"xaxis\": \"x\", \"y\": [136], \"yaxis\": \"y\", \"type\": \"scatter\"}, {\"hoverlabel\": {\"namelength\": 0}, \"hovertemplate\": \"Race=Anti-Arab<br>Year=2016<br>Offenses=%{x}<br>Incidents=%{y}<br>Victims=%{marker.size}\", \"legendgroup\": \"Race=Anti-Arab\", \"marker\": {\"color\": \"#FF6692\", \"size\": [57], \"sizemode\": \"area\", \"sizeref\": 6.145, \"symbol\": \"circle\"}, \"mode\": \"markers\", \"name\": \"Race=Anti-Arab\", \"showlegend\": true, \"x\": [56], \"xaxis\": \"x\", \"y\": [51], \"yaxis\": \"y\", \"type\": \"scatter\"}, {\"hoverlabel\": {\"namelength\": 0}, \"hovertemplate\": \"Race=Anti-Hispanic or Latino<br>Year=2016<br>Offenses=%{x}<br>Incidents=%{y}<br>Victims=%{marker.size}\", \"legendgroup\": \"Race=Anti-Hispanic or Latino\", \"marker\": {\"color\": \"#B6E880\", \"size\": [483], \"sizemode\": \"area\", \"sizeref\": 6.145, \"symbol\": \"circle\"}, \"mode\": \"markers\", \"name\": \"Race=Anti-Hispanic or Latino\", \"showlegend\": true, \"x\": [449], \"xaxis\": \"x\", \"y\": [344], \"yaxis\": \"y\", \"type\": \"scatter\"}, {\"hoverlabel\": {\"namelength\": 0}, \"hovertemplate\": \"Race=Anti-Other Race/Ethnicity/Ancestry<br>Year=2016<br>Offenses=%{x}<br>Incidents=%{y}<br>Victims=%{marker.size}\", \"legendgroup\": \"Race=Anti-Other Race/Ethnicity/Ancestry\", \"marker\": {\"color\": \"#FF97FF\", \"size\": [252], \"sizemode\": \"area\", \"sizeref\": 6.145, \"symbol\": \"circle\"}, \"mode\": \"markers\", \"name\": \"Race=Anti-Other Race/Ethnicity/Ancestry\", \"showlegend\": true, \"x\": [247], \"xaxis\": \"x\", \"y\": [223], \"yaxis\": \"y\", \"type\": \"scatter\"}], \"name\": \"2016\"}, {\"data\": [{\"hoverlabel\": {\"namelength\": 0}, \"hovertemplate\": \"Race=Anti-White<br>Year=2017<br>Offenses=%{x}<br>Incidents=%{y}<br>Victims=%{marker.size}\", \"legendgroup\": \"Race=Anti-White\", \"marker\": {\"color\": \"#636efa\", \"size\": [864], \"sizemode\": \"area\", \"sizeref\": 6.145, \"symbol\": \"circle\"}, \"mode\": \"markers\", \"name\": \"Race=Anti-White\", \"showlegend\": true, \"x\": [844], \"xaxis\": \"x\", \"y\": [741], \"yaxis\": \"y\", \"type\": \"scatter\"}, {\"hoverlabel\": {\"namelength\": 0}, \"hovertemplate\": \"Race=Anti-Black or African American<br>Year=2017<br>Offenses=%{x}<br>Incidents=%{y}<br>Victims=%{marker.size}\", \"legendgroup\": \"Race=Anti-Black or African American\", \"marker\": {\"color\": \"#EF553B\", \"size\": [2458], \"sizemode\": \"area\", \"sizeref\": 6.145, \"symbol\": \"circle\"}, \"mode\": \"markers\", \"name\": \"Race=Anti-Black or African American\", \"showlegend\": true, \"x\": [2358], \"xaxis\": \"x\", \"y\": [2013], \"yaxis\": \"y\", \"type\": \"scatter\"}, {\"hoverlabel\": {\"namelength\": 0}, \"hovertemplate\": \"Race=Anti-American Indian or Alaska Native<br>Year=2017<br>Offenses=%{x}<br>Incidents=%{y}<br>Victims=%{marker.size}\", \"legendgroup\": \"Race=Anti-American Indian or Alaska Native\", \"marker\": {\"color\": \"#00cc96\", \"size\": [321], \"sizemode\": \"area\", \"sizeref\": 6.145, \"symbol\": \"circle\"}, \"mode\": \"markers\", \"name\": \"Race=Anti-American Indian or Alaska Native\", \"showlegend\": true, \"x\": [281], \"xaxis\": \"x\", \"y\": [251], \"yaxis\": \"y\", \"type\": \"scatter\"}, {\"hoverlabel\": {\"namelength\": 0}, \"hovertemplate\": \"Race=Anti-Asian<br>Year=2017<br>Offenses=%{x}<br>Incidents=%{y}<br>Victims=%{marker.size}\", \"legendgroup\": \"Race=Anti-Asian\", \"marker\": {\"color\": \"#ab63fa\", \"size\": [165], \"sizemode\": \"area\", \"sizeref\": 6.145, \"symbol\": \"circle\"}, \"mode\": \"markers\", \"name\": \"Race=Anti-Asian\", \"showlegend\": true, \"x\": [152], \"xaxis\": \"x\", \"y\": [131], \"yaxis\": \"y\", \"type\": \"scatter\"}, {\"hoverlabel\": {\"namelength\": 0}, \"hovertemplate\": \"Race=Anti-Native Hawaiian or Other Pacific Islander<br>Year=2017<br>Offenses=%{x}<br>Incidents=%{y}<br>Victims=%{marker.size}\", \"legendgroup\": \"Race=Anti-Native Hawaiian or Other Pacific Islander\", \"marker\": {\"color\": \"#FFA15A\", \"size\": [18], \"sizemode\": \"area\", \"sizeref\": 6.145, \"symbol\": \"circle\"}, \"mode\": \"markers\", \"name\": \"Race=Anti-Native Hawaiian or Other Pacific Islander\", \"showlegend\": true, \"x\": [17], \"xaxis\": \"x\", \"y\": [16], \"yaxis\": \"y\", \"type\": \"scatter\"}, {\"hoverlabel\": {\"namelength\": 0}, \"hovertemplate\": \"Race=Anti-Multiple Races Group<br>Year=2017<br>Offenses=%{x}<br>Incidents=%{y}<br>Victims=%{marker.size}\", \"legendgroup\": \"Race=Anti-Multiple Races Group\", \"marker\": {\"color\": \"#19d3f3\", \"size\": [229], \"sizemode\": \"area\", \"sizeref\": 6.145, \"symbol\": \"circle\"}, \"mode\": \"markers\", \"name\": \"Race=Anti-Multiple Races Group\", \"showlegend\": true, \"x\": [215], \"xaxis\": \"x\", \"y\": [180], \"yaxis\": \"y\", \"type\": \"scatter\"}, {\"hoverlabel\": {\"namelength\": 0}, \"hovertemplate\": \"Race=Anti-Arab<br>Year=2017<br>Offenses=%{x}<br>Incidents=%{y}<br>Victims=%{marker.size}\", \"legendgroup\": \"Race=Anti-Arab\", \"marker\": {\"color\": \"#FF6692\", \"size\": [131], \"sizemode\": \"area\", \"sizeref\": 6.145, \"symbol\": \"circle\"}, \"mode\": \"markers\", \"name\": \"Race=Anti-Arab\", \"showlegend\": true, \"x\": [128], \"xaxis\": \"x\", \"y\": [102], \"yaxis\": \"y\", \"type\": \"scatter\"}, {\"hoverlabel\": {\"namelength\": 0}, \"hovertemplate\": \"Race=Anti-Hispanic or Latino<br>Year=2017<br>Offenses=%{x}<br>Incidents=%{y}<br>Victims=%{marker.size}\", \"legendgroup\": \"Race=Anti-Hispanic or Latino\", \"marker\": {\"color\": \"#B6E880\", \"size\": [552], \"sizemode\": \"area\", \"sizeref\": 6.145, \"symbol\": \"circle\"}, \"mode\": \"markers\", \"name\": \"Race=Anti-Hispanic or Latino\", \"showlegend\": true, \"x\": [525], \"xaxis\": \"x\", \"y\": [427], \"yaxis\": \"y\", \"type\": \"scatter\"}, {\"hoverlabel\": {\"namelength\": 0}, \"hovertemplate\": \"Race=Anti-Other Race/Ethnicity/Ancestry<br>Year=2017<br>Offenses=%{x}<br>Incidents=%{y}<br>Victims=%{marker.size}\", \"legendgroup\": \"Race=Anti-Other Race/Ethnicity/Ancestry\", \"marker\": {\"color\": \"#FF97FF\", \"size\": [322], \"sizemode\": \"area\", \"sizeref\": 6.145, \"symbol\": \"circle\"}, \"mode\": \"markers\", \"name\": \"Race=Anti-Other Race/Ethnicity/Ancestry\", \"showlegend\": true, \"x\": [312], \"xaxis\": \"x\", \"y\": [270], \"yaxis\": \"y\", \"type\": \"scatter\"}], \"name\": \"2017\"}, {\"data\": [{\"hoverlabel\": {\"namelength\": 0}, \"hovertemplate\": \"Race=Anti-White<br>Year=2018<br>Offenses=%{x}<br>Incidents=%{y}<br>Victims=%{marker.size}\", \"legendgroup\": \"Race=Anti-White\", \"marker\": {\"color\": \"#636efa\", \"size\": [1038], \"sizemode\": \"area\", \"sizeref\": 6.145, \"symbol\": \"circle\"}, \"mode\": \"markers\", \"name\": \"Race=Anti-White\", \"showlegend\": true, \"x\": [1001], \"xaxis\": \"x\", \"y\": [762], \"yaxis\": \"y\", \"type\": \"scatter\"}, {\"hoverlabel\": {\"namelength\": 0}, \"hovertemplate\": \"Race=Anti-Black or African American<br>Year=2018<br>Offenses=%{x}<br>Incidents=%{y}<br>Victims=%{marker.size}\", \"legendgroup\": \"Race=Anti-Black or African American\", \"marker\": {\"color\": \"#EF553B\", \"size\": [2426], \"sizemode\": \"area\", \"sizeref\": 6.145, \"symbol\": \"circle\"}, \"mode\": \"markers\", \"name\": \"Race=Anti-Black or African American\", \"showlegend\": true, \"x\": [2325], \"xaxis\": \"x\", \"y\": [1943], \"yaxis\": \"y\", \"type\": \"scatter\"}, {\"hoverlabel\": {\"namelength\": 0}, \"hovertemplate\": \"Race=Anti-American Indian or Alaska Native<br>Year=2018<br>Offenses=%{x}<br>Incidents=%{y}<br>Victims=%{marker.size}\", \"legendgroup\": \"Race=Anti-American Indian or Alaska Native\", \"marker\": {\"color\": \"#00cc96\", \"size\": [209], \"sizemode\": \"area\", \"sizeref\": 6.145, \"symbol\": \"circle\"}, \"mode\": \"markers\", \"name\": \"Race=Anti-American Indian or Alaska Native\", \"showlegend\": true, \"x\": [204], \"xaxis\": \"x\", \"y\": [194], \"yaxis\": \"y\", \"type\": \"scatter\"}, {\"hoverlabel\": {\"namelength\": 0}, \"hovertemplate\": \"Race=Anti-Asian<br>Year=2018<br>Offenses=%{x}<br>Incidents=%{y}<br>Victims=%{marker.size}\", \"legendgroup\": \"Race=Anti-Asian\", \"marker\": {\"color\": \"#ab63fa\", \"size\": [177], \"sizemode\": \"area\", \"sizeref\": 6.145, \"symbol\": \"circle\"}, \"mode\": \"markers\", \"name\": \"Race=Anti-Asian\", \"showlegend\": true, \"x\": [171], \"xaxis\": \"x\", \"y\": [148], \"yaxis\": \"y\", \"type\": \"scatter\"}, {\"hoverlabel\": {\"namelength\": 0}, \"hovertemplate\": \"Race=Anti-Native Hawaiian or Other Pacific Islander<br>Year=2018<br>Offenses=%{x}<br>Incidents=%{y}<br>Victims=%{marker.size}\", \"legendgroup\": \"Race=Anti-Native Hawaiian or Other Pacific Islander\", \"marker\": {\"color\": \"#FFA15A\", \"size\": [26], \"sizemode\": \"area\", \"sizeref\": 6.145, \"symbol\": \"circle\"}, \"mode\": \"markers\", \"name\": \"Race=Anti-Native Hawaiian or Other Pacific Islander\", \"showlegend\": true, \"x\": [26], \"xaxis\": \"x\", \"y\": [20], \"yaxis\": \"y\", \"type\": \"scatter\"}, {\"hoverlabel\": {\"namelength\": 0}, \"hovertemplate\": \"Race=Anti-Multiple Races Group<br>Year=2018<br>Offenses=%{x}<br>Incidents=%{y}<br>Victims=%{marker.size}\", \"legendgroup\": \"Race=Anti-Multiple Races Group\", \"marker\": {\"color\": \"#19d3f3\", \"size\": [174], \"sizemode\": \"area\", \"sizeref\": 6.145, \"symbol\": \"circle\"}, \"mode\": \"markers\", \"name\": \"Race=Anti-Multiple Races Group\", \"showlegend\": true, \"x\": [166], \"xaxis\": \"x\", \"y\": [137], \"yaxis\": \"y\", \"type\": \"scatter\"}, {\"hoverlabel\": {\"namelength\": 0}, \"hovertemplate\": \"Race=Anti-Arab<br>Year=2018<br>Offenses=%{x}<br>Incidents=%{y}<br>Victims=%{marker.size}\", \"legendgroup\": \"Race=Anti-Arab\", \"marker\": {\"color\": \"#FF6692\", \"size\": [100], \"sizemode\": \"area\", \"sizeref\": 6.145, \"symbol\": \"circle\"}, \"mode\": \"markers\", \"name\": \"Race=Anti-Arab\", \"showlegend\": true, \"x\": [100], \"xaxis\": \"x\", \"y\": [82], \"yaxis\": \"y\", \"type\": \"scatter\"}, {\"hoverlabel\": {\"namelength\": 0}, \"hovertemplate\": \"Race=Anti-Hispanic or Latino<br>Year=2018<br>Offenses=%{x}<br>Incidents=%{y}<br>Victims=%{marker.size}\", \"legendgroup\": \"Race=Anti-Hispanic or Latino\", \"marker\": {\"color\": \"#B6E880\", \"size\": [671], \"sizemode\": \"area\", \"sizeref\": 6.145, \"symbol\": \"circle\"}, \"mode\": \"markers\", \"name\": \"Race=Anti-Hispanic or Latino\", \"showlegend\": true, \"x\": [644], \"xaxis\": \"x\", \"y\": [485], \"yaxis\": \"y\", \"type\": \"scatter\"}, {\"hoverlabel\": {\"namelength\": 0}, \"hovertemplate\": \"Race=Anti-Other Race/Ethnicity/Ancestry<br>Year=2018<br>Offenses=%{x}<br>Incidents=%{y}<br>Victims=%{marker.size}\", \"legendgroup\": \"Race=Anti-Other Race/Ethnicity/Ancestry\", \"marker\": {\"color\": \"#FF97FF\", \"size\": [334], \"sizemode\": \"area\", \"sizeref\": 6.145, \"symbol\": \"circle\"}, \"mode\": \"markers\", \"name\": \"Race=Anti-Other Race/Ethnicity/Ancestry\", \"showlegend\": true, \"x\": [317], \"xaxis\": \"x\", \"y\": [276], \"yaxis\": \"y\", \"type\": \"scatter\"}], \"name\": \"2018\"}, {\"data\": [{\"hoverlabel\": {\"namelength\": 0}, \"hovertemplate\": \"Race=Anti-White<br>Year=2019<br>Offenses=%{x}<br>Incidents=%{y}<br>Victims=%{marker.size}\", \"legendgroup\": \"Race=Anti-White\", \"marker\": {\"color\": \"#636efa\", \"size\": [775], \"sizemode\": \"area\", \"sizeref\": 6.145, \"symbol\": \"circle\"}, \"mode\": \"markers\", \"name\": \"Race=Anti-White\", \"showlegend\": true, \"x\": [755], \"xaxis\": \"x\", \"y\": [666], \"yaxis\": \"y\", \"type\": \"scatter\"}, {\"hoverlabel\": {\"namelength\": 0}, \"hovertemplate\": \"Race=Anti-Black or African American<br>Year=2019<br>Offenses=%{x}<br>Incidents=%{y}<br>Victims=%{marker.size}\", \"legendgroup\": \"Race=Anti-Black or African American\", \"marker\": {\"color\": \"#EF553B\", \"size\": [2391], \"sizemode\": \"area\", \"sizeref\": 6.145, \"symbol\": \"circle\"}, \"mode\": \"markers\", \"name\": \"Race=Anti-Black or African American\", \"showlegend\": true, \"x\": [2314], \"xaxis\": \"x\", \"y\": [1930], \"yaxis\": \"y\", \"type\": \"scatter\"}, {\"hoverlabel\": {\"namelength\": 0}, \"hovertemplate\": \"Race=Anti-American Indian or Alaska Native<br>Year=2019<br>Offenses=%{x}<br>Incidents=%{y}<br>Victims=%{marker.size}\", \"legendgroup\": \"Race=Anti-American Indian or Alaska Native\", \"marker\": {\"color\": \"#00cc96\", \"size\": [135], \"sizemode\": \"area\", \"sizeref\": 6.145, \"symbol\": \"circle\"}, \"mode\": \"markers\", \"name\": \"Race=Anti-American Indian or Alaska Native\", \"showlegend\": true, \"x\": [126], \"xaxis\": \"x\", \"y\": [119], \"yaxis\": \"y\", \"type\": \"scatter\"}, {\"hoverlabel\": {\"namelength\": 0}, \"hovertemplate\": \"Race=Anti-Asian<br>Year=2019<br>Offenses=%{x}<br>Incidents=%{y}<br>Victims=%{marker.size}\", \"legendgroup\": \"Race=Anti-Asian\", \"marker\": {\"color\": \"#ab63fa\", \"size\": [215], \"sizemode\": \"area\", \"sizeref\": 6.145, \"symbol\": \"circle\"}, \"mode\": \"markers\", \"name\": \"Race=Anti-Asian\", \"showlegend\": true, \"x\": [205], \"xaxis\": \"x\", \"y\": [158], \"yaxis\": \"y\", \"type\": \"scatter\"}, {\"hoverlabel\": {\"namelength\": 0}, \"hovertemplate\": \"Race=Anti-Native Hawaiian or Other Pacific Islander<br>Year=2019<br>Offenses=%{x}<br>Incidents=%{y}<br>Victims=%{marker.size}\", \"legendgroup\": \"Race=Anti-Native Hawaiian or Other Pacific Islander\", \"marker\": {\"color\": \"#FFA15A\", \"size\": [26], \"sizemode\": \"area\", \"sizeref\": 6.145, \"symbol\": \"circle\"}, \"mode\": \"markers\", \"name\": \"Race=Anti-Native Hawaiian or Other Pacific Islander\", \"showlegend\": true, \"x\": [25], \"xaxis\": \"x\", \"y\": [21], \"yaxis\": \"y\", \"type\": \"scatter\"}, {\"hoverlabel\": {\"namelength\": 0}, \"hovertemplate\": \"Race=Anti-Multiple Races Group<br>Year=2019<br>Offenses=%{x}<br>Incidents=%{y}<br>Victims=%{marker.size}\", \"legendgroup\": \"Race=Anti-Multiple Races Group\", \"marker\": {\"color\": \"#19d3f3\", \"size\": [173], \"sizemode\": \"area\", \"sizeref\": 6.145, \"symbol\": \"circle\"}, \"mode\": \"markers\", \"name\": \"Race=Anti-Multiple Races Group\", \"showlegend\": true, \"x\": [171], \"xaxis\": \"x\", \"y\": [134], \"yaxis\": \"y\", \"type\": \"scatter\"}, {\"hoverlabel\": {\"namelength\": 0}, \"hovertemplate\": \"Race=Anti-Arab<br>Year=2019<br>Offenses=%{x}<br>Incidents=%{y}<br>Victims=%{marker.size}\", \"legendgroup\": \"Race=Anti-Arab\", \"marker\": {\"color\": \"#FF6692\", \"size\": [126], \"sizemode\": \"area\", \"sizeref\": 6.145, \"symbol\": \"circle\"}, \"mode\": \"markers\", \"name\": \"Race=Anti-Arab\", \"showlegend\": true, \"x\": [122], \"xaxis\": \"x\", \"y\": [95], \"yaxis\": \"y\", \"type\": \"scatter\"}, {\"hoverlabel\": {\"namelength\": 0}, \"hovertemplate\": \"Race=Anti-Hispanic or Latino<br>Year=2019<br>Offenses=%{x}<br>Incidents=%{y}<br>Victims=%{marker.size}\", \"legendgroup\": \"Race=Anti-Hispanic or Latino\", \"marker\": {\"color\": \"#B6E880\", \"size\": [693], \"sizemode\": \"area\", \"sizeref\": 6.145, \"symbol\": \"circle\"}, \"mode\": \"markers\", \"name\": \"Race=Anti-Hispanic or Latino\", \"showlegend\": true, \"x\": [676], \"xaxis\": \"x\", \"y\": [527], \"yaxis\": \"y\", \"type\": \"scatter\"}, {\"hoverlabel\": {\"namelength\": 0}, \"hovertemplate\": \"Race=Anti-Other Race/Ethnicity/Ancestry<br>Year=2019<br>Offenses=%{x}<br>Incidents=%{y}<br>Victims=%{marker.size}\", \"legendgroup\": \"Race=Anti-Other Race/Ethnicity/Ancestry\", \"marker\": {\"color\": \"#FF97FF\", \"size\": [396], \"sizemode\": \"area\", \"sizeref\": 6.145, \"symbol\": \"circle\"}, \"mode\": \"markers\", \"name\": \"Race=Anti-Other Race/Ethnicity/Ancestry\", \"showlegend\": true, \"x\": [390], \"xaxis\": \"x\", \"y\": [313], \"yaxis\": \"y\", \"type\": \"scatter\"}], \"name\": \"2019\"}]);\n",
              "                        }).then(function(){\n",
              "                            \n",
              "var gd = document.getElementById('01b8d4f3-5562-479b-ae15-83cf70994c15');\n",
              "var x = new MutationObserver(function (mutations, observer) {{\n",
              "        var display = window.getComputedStyle(gd).display;\n",
              "        if (!display || display === 'none') {{\n",
              "            console.log([gd, 'removed!']);\n",
              "            Plotly.purge(gd);\n",
              "            observer.disconnect();\n",
              "        }}\n",
              "}});\n",
              "\n",
              "// Listen for the removal of the full notebook cells\n",
              "var notebookContainer = gd.closest('#notebook-container');\n",
              "if (notebookContainer) {{\n",
              "    x.observe(notebookContainer, {childList: true});\n",
              "}}\n",
              "\n",
              "// Listen for the clearing of the current output cell\n",
              "var outputEl = gd.closest('.output');\n",
              "if (outputEl) {{\n",
              "    x.observe(outputEl, {childList: true});\n",
              "}}\n",
              "\n",
              "                        })\n",
              "                };\n",
              "                \n",
              "            </script>\n",
              "        </div>\n",
              "</body>\n",
              "</html>"
            ]
          },
          "metadata": {
            "tags": []
          }
        }
      ]
    },
    {
      "cell_type": "code",
      "metadata": {
        "id": "lhO2qsUK-ZbE",
        "colab": {
          "base_uri": "https://localhost:8080/",
          "height": 17
        },
        "outputId": "646edeb5-99b9-407c-a94d-4f25df93f89c"
      },
      "source": [
        "# save the plots as html files\n",
        "hc_animation.write_html(\"hc_animation.html\")\n",
        "# download from google colab\n",
        "files.download(\"hc_animation.html\")\n"
      ],
      "execution_count": 11,
      "outputs": [
        {
          "output_type": "display_data",
          "data": {
            "application/javascript": [
              "\n",
              "    async function download(id, filename, size) {\n",
              "      if (!google.colab.kernel.accessAllowed) {\n",
              "        return;\n",
              "      }\n",
              "      const div = document.createElement('div');\n",
              "      const label = document.createElement('label');\n",
              "      label.textContent = `Downloading \"${filename}\": `;\n",
              "      div.appendChild(label);\n",
              "      const progress = document.createElement('progress');\n",
              "      progress.max = size;\n",
              "      div.appendChild(progress);\n",
              "      document.body.appendChild(div);\n",
              "\n",
              "      const buffers = [];\n",
              "      let downloaded = 0;\n",
              "\n",
              "      const channel = await google.colab.kernel.comms.open(id);\n",
              "      // Send a message to notify the kernel that we're ready.\n",
              "      channel.send({})\n",
              "\n",
              "      for await (const message of channel.messages) {\n",
              "        // Send a message to notify the kernel that we're ready.\n",
              "        channel.send({})\n",
              "        if (message.buffers) {\n",
              "          for (const buffer of message.buffers) {\n",
              "            buffers.push(buffer);\n",
              "            downloaded += buffer.byteLength;\n",
              "            progress.value = downloaded;\n",
              "          }\n",
              "        }\n",
              "      }\n",
              "      const blob = new Blob(buffers, {type: 'application/binary'});\n",
              "      const a = document.createElement('a');\n",
              "      a.href = window.URL.createObjectURL(blob);\n",
              "      a.download = filename;\n",
              "      div.appendChild(a);\n",
              "      a.click();\n",
              "      div.remove();\n",
              "    }\n",
              "  "
            ],
            "text/plain": [
              "<IPython.core.display.Javascript object>"
            ]
          },
          "metadata": {
            "tags": []
          }
        },
        {
          "output_type": "display_data",
          "data": {
            "application/javascript": [
              "download(\"download_1ccf9fac-935b-4e9c-afa1-5743e5db453e\", \"hc_animation.html\", 3321430)"
            ],
            "text/plain": [
              "<IPython.core.display.Javascript object>"
            ]
          },
          "metadata": {
            "tags": []
          }
        }
      ]
    }
  ]
}